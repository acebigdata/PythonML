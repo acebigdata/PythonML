{
 "cells": [
  {
   "cell_type": "code",
   "execution_count": 1,
   "metadata": {
    "collapsed": true
   },
   "outputs": [],
   "source": [
    "import matplotlib.pyplot as plt\n",
    "import numpy as np\n",
    "%matplotlib inline"
   ]
  },
  {
   "cell_type": "code",
   "execution_count": 37,
   "metadata": {
    "collapsed": true
   },
   "outputs": [],
   "source": [
    "x = np.linspace(-10,10,20)\n",
    "y = x ** 2"
   ]
  },
  {
   "cell_type": "code",
   "execution_count": 39,
   "metadata": {
    "collapsed": false
   },
   "outputs": [
    {
     "data": {
      "text/plain": [
       "(-20, 80)"
      ]
     },
     "execution_count": 39,
     "metadata": {},
     "output_type": "execute_result"
    },
    {
     "data": {
      "image/png": "[encoded data removed]",
      "text/plain": [
       "<matplotlib.figure.Figure at 0xb8238d0>"
      ]
     },
     "metadata": {},
     "output_type": "display_data"
    }
   ],
   "source": [
    "fig = plt.figure()\n",
    "ax = fig.add_axes([0,0,1,1])\n",
    "ax.plot(x,y, color = \"#000000\", linewidth = 1, alpha = 0.5, ls = \"-\", marker = \"o\", markersize = 5,\n",
    "       markerfacecolor = \"m\") # can use RGB hex code as well\n",
    "ax.set_xlim([-20, 80])\n",
    "ax.set_ylim([-20, 80])"
   ]
  },
  {
   "cell_type": "code",
   "execution_count": 40,
   "metadata": {
    "collapsed": false
   },
   "outputs": [
    {
     "data": {
      "text/plain": [
       "<matplotlib.collections.PathCollection at 0xb88f438>"
      ]
     },
     "execution_count": 40,
     "metadata": {},
     "output_type": "execute_result"
    },
    {
     "data": {
      "image/png": "[encoded data removed]",
      "text/plain": [
       "<matplotlib.figure.Figure at 0xb87f550>"
      ]
     },
     "metadata": {},
     "output_type": "display_data"
    }
   ],
   "source": [
    "plt.scatter(x,y)"
   ]
  },
  {
   "cell_type": "code",
   "execution_count": 45,
   "metadata": {
    "collapsed": false
   },
   "outputs": [
    {
     "data": {
      "text/plain": [
       "(array([ 14.,  10.,   4.,  11.,  12.,  13.,  13.,   6.,   7.,  10.]),\n",
       " array([  33. ,  129.4,  225.8,  322.2,  418.6,  515. ,  611.4,  707.8,\n",
       "         804.2,  900.6,  997. ]),\n",
       " <a list of 10 Patch objects>)"
      ]
     },
     "execution_count": 45,
     "metadata": {},
     "output_type": "execute_result"
    },
    {
     "data": {
      "image/png": "[encoded data removed]",
      "text/plain": [
       "<matplotlib.figure.Figure at 0xbe6b400>"
      ]
     },
     "metadata": {},
     "output_type": "display_data"
    }
   ],
   "source": [
    "from random import sample\n",
    "data = sample(range(1, 1000), 100);\n",
    "plt.hist(data)"
   ]
  },
  {
   "cell_type": "code",
   "execution_count": 46,
   "metadata": {
    "collapsed": false
   },
   "outputs": [
    {
     "data": {
      "text/plain": [
       "{'boxes': [<matplotlib.patches.PathPatch at 0xbfbaa58>,\n",
       "  <matplotlib.patches.PathPatch at 0xbfdc320>,\n",
       "  <matplotlib.patches.PathPatch at 0xbff4a20>],\n",
       " 'caps': [<matplotlib.lines.Line2D at 0xbfc8c18>,\n",
       "  <matplotlib.lines.Line2D at 0xbfc5a90>,\n",
       "  <matplotlib.lines.Line2D at 0xbfe59e8>,\n",
       "  <matplotlib.lines.Line2D at 0xbfe5ba8>,\n",
       "  <matplotlib.lines.Line2D at 0xbffcac8>,\n",
       "  <matplotlib.lines.Line2D at 0xc004978>],\n",
       " 'fliers': [<matplotlib.lines.Line2D at 0xbfd5b00>,\n",
       "  <matplotlib.lines.Line2D at 0xbfecc18>,\n",
       "  <matplotlib.lines.Line2D at 0xc00b9e8>],\n",
       " 'means': [],\n",
       " 'medians': [<matplotlib.lines.Line2D at 0xbfc5c50>,\n",
       "  <matplotlib.lines.Line2D at 0xbfec400>,\n",
       "  <matplotlib.lines.Line2D at 0xc004b38>],\n",
       " 'whiskers': [<matplotlib.lines.Line2D at 0xbfc8048>,\n",
       "  <matplotlib.lines.Line2D at 0xbfc8a20>,\n",
       "  <matplotlib.lines.Line2D at 0xbfdc898>,\n",
       "  <matplotlib.lines.Line2D at 0xbfdcac8>,\n",
       "  <matplotlib.lines.Line2D at 0xbffc080>,\n",
       "  <matplotlib.lines.Line2D at 0xbffc908>]}"
      ]
     },
     "execution_count": 46,
     "metadata": {},
     "output_type": "execute_result"
    },
    {
     "data": {
      "image/png": "[encoded data removed]",
      "text/plain": [
       "<matplotlib.figure.Figure at 0xbf4c1d0>"
      ]
     },
     "metadata": {},
     "output_type": "display_data"
    }
   ],
   "source": [
    "data = [np.random.normal(0, std, 100) for std in range(1,4)]\n",
    "plt.boxplot(data, vert = True, patch_artist=True)"
   ]
  },
  {
   "cell_type": "code",
   "execution_count": null,
   "metadata": {
    "collapsed": true
   },
   "outputs": [],
   "source": []
  }
 ],
 "metadata": {
  "kernelspec": {
   "display_name": "Python 3",
   "language": "python",
   "name": "python3"
  },
  "language_info": {
   "codemirror_mode": {
    "name": "ipython",
    "version": 3
   },
   "file_extension": ".py",
   "mimetype": "text/x-python",
   "name": "python",
   "nbconvert_exporter": "python",
   "pygments_lexer": "ipython3",
   "version": "3.6.0"
  }
 },
 "nbformat": 4,
 "nbformat_minor": 2
}
